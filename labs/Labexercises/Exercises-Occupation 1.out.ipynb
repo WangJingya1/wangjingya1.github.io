{
  "cells": [
    {
      "cell_type": "markdown",
      "metadata": {},
      "source": [
        "# Ex3 - Getting and Knowing your Data\n",
        "\n",
        "This time we are going to pull data directly from the internet. Special\n",
        "thanks to: https://github.com/justmarkham for sharing the dataset and\n",
        "materials.\n",
        "\n",
        "### Step 1. Import the necessary libraries"
      ],
      "id": "2c867d4c-7ff1-4174-b538-7fb2c9735229"
    },
    {
      "cell_type": "code",
      "execution_count": 2,
      "metadata": {},
      "outputs": [],
      "source": [
        "import pandas as pd\n"
      ],
      "id": "cell-3"
    },
    {
      "cell_type": "markdown",
      "metadata": {},
      "source": [
        "### Step 2. Import the dataset from this [address](https://raw.githubusercontent.com/justmarkham/DAT8/master/data/u.user).\n",
        "\n",
        "### Step 3. Assign it to a variable called users and use the ‘user_id’ as index"
      ],
      "id": "b9b70122-8ca9-4cea-aad6-921f93d74a1b"
    },
    {
      "cell_type": "code",
      "execution_count": 3,
      "metadata": {},
      "outputs": [],
      "source": [
        "users = pd.read_csv('https://raw.githubusercontent.com/justmarkham/DAT8/master/data/u.user', \n",
        "                      sep='|', index_col='user_id')\n"
      ],
      "id": "cell-6"
    },
    {
      "cell_type": "markdown",
      "metadata": {},
      "source": [
        "### Step 4. See the first 25 entries"
      ],
      "id": "67f91e6e-d8fc-4887-93d5-3bfeae6c10c4"
    },
    {
      "cell_type": "code",
      "execution_count": 4,
      "metadata": {
        "scrolled": true
      },
      "outputs": [
        {
          "output_type": "display_data",
          "metadata": {},
          "data": {
            "text/html": [
              "\n",
              "</div>"
            ]
          }
        }
      ],
      "source": [
        "users.head(25)\n"
      ],
      "id": "cell-8"
    },
    {
      "cell_type": "markdown",
      "metadata": {},
      "source": [
        "### Step 5. See the last 10 entries"
      ],
      "id": "64ca1d3b-0ae8-44cc-831c-32b900414fe3"
    },
    {
      "cell_type": "code",
      "execution_count": 5,
      "metadata": {
        "scrolled": true
      },
      "outputs": [
        {
          "output_type": "display_data",
          "metadata": {},
          "data": {
            "text/html": [
              "\n",
              "</div>"
            ]
          }
        }
      ],
      "source": [
        "users.tail(10)\n"
      ],
      "id": "cell-10"
    },
    {
      "cell_type": "markdown",
      "metadata": {},
      "source": [
        "### Step 6. What is the number of observations in the dataset?"
      ],
      "id": "66e159d3-bee7-40f9-bc1e-917f0fd45008"
    },
    {
      "cell_type": "code",
      "execution_count": 6,
      "metadata": {},
      "outputs": [
        {
          "output_type": "display_data",
          "metadata": {},
          "data": {
            "text/plain": [
              "943"
            ]
          }
        }
      ],
      "source": [
        "users.shape[0]\n"
      ],
      "id": "cell-12"
    },
    {
      "cell_type": "markdown",
      "metadata": {},
      "source": [
        "### Step 7. What is the number of columns in the dataset?"
      ],
      "id": "2f2411f7-2585-4889-9428-6ba58abb05c7"
    },
    {
      "cell_type": "code",
      "execution_count": 7,
      "metadata": {},
      "outputs": [
        {
          "output_type": "display_data",
          "metadata": {},
          "data": {
            "text/plain": [
              "4"
            ]
          }
        }
      ],
      "source": [
        "users.shape[1]\n"
      ],
      "id": "cell-14"
    },
    {
      "cell_type": "markdown",
      "metadata": {},
      "source": [
        "### Step 8. Print the name of all the columns."
      ],
      "id": "f5efccd8-972a-4314-84f3-d785b8b2fc9b"
    },
    {
      "cell_type": "code",
      "execution_count": 8,
      "metadata": {},
      "outputs": [
        {
          "output_type": "display_data",
          "metadata": {},
          "data": {
            "text/plain": [
              "Index(['age', 'gender', 'occupation', 'zip_code'], dtype='object')"
            ]
          }
        }
      ],
      "source": [
        "users.columns\n"
      ],
      "id": "cell-16"
    },
    {
      "cell_type": "markdown",
      "metadata": {},
      "source": [
        "### Step 9. How is the dataset indexed?"
      ],
      "id": "834c0396-9a0f-4946-b192-a2762ef05de0"
    },
    {
      "cell_type": "code",
      "execution_count": 9,
      "metadata": {},
      "outputs": [
        {
          "output_type": "display_data",
          "metadata": {},
          "data": {
            "text/plain": [
              "Index([  1,   2,   3,   4,   5,   6,   7,   8,   9,  10,\n",
              "       ...\n",
              "       934, 935, 936, 937, 938, 939, 940, 941, 942, 943],\n",
              "      dtype='int64', name='user_id', length=943)"
            ]
          }
        }
      ],
      "source": [
        "# \"the index\" (aka \"the labels\")    \n",
        "# 【索引，又被称为标签】\n",
        "users.index\n"
      ],
      "id": "cell-18"
    },
    {
      "cell_type": "markdown",
      "metadata": {},
      "source": [
        "### Step 10. What is the data type of each column?"
      ],
      "id": "aa8329f6-fa7d-481a-a0cc-655e2a5a287a"
    },
    {
      "cell_type": "code",
      "execution_count": 10,
      "metadata": {},
      "outputs": [
        {
          "output_type": "display_data",
          "metadata": {},
          "data": {
            "text/plain": [
              "age            int64\n",
              "gender        object\n",
              "occupation    object\n",
              "zip_code      object\n",
              "dtype: object"
            ]
          }
        }
      ],
      "source": [
        "users.dtypes\n"
      ],
      "id": "cell-20"
    },
    {
      "cell_type": "markdown",
      "metadata": {},
      "source": [
        "### Step 11. Print only the occupation column"
      ],
      "id": "41997aad-699d-49ab-8c95-6a9b6ed67b36"
    },
    {
      "cell_type": "code",
      "execution_count": 11,
      "metadata": {},
      "outputs": [
        {
          "output_type": "display_data",
          "metadata": {},
          "data": {
            "text/plain": [
              "user_id\n",
              "1         technician\n",
              "2              other\n",
              "3             writer\n",
              "4         technician\n",
              "5              other\n",
              "           ...      \n",
              "939          student\n",
              "940    administrator\n",
              "941          student\n",
              "942        librarian\n",
              "943          student\n",
              "Name: occupation, Length: 943, dtype: object"
            ]
          }
        }
      ],
      "source": [
        "users.occupation\n",
        "\n",
        "#or\n",
        "\n",
        "users['occupation']\n"
      ],
      "id": "cell-22"
    },
    {
      "cell_type": "markdown",
      "metadata": {},
      "source": [
        "### Step 12. How many different occupations are in this dataset?"
      ],
      "id": "403ef08c-d20c-4800-86ad-1e81dc958eb0"
    },
    {
      "cell_type": "code",
      "execution_count": 12,
      "metadata": {},
      "outputs": [
        {
          "output_type": "display_data",
          "metadata": {},
          "data": {
            "text/plain": [
              "21"
            ]
          }
        }
      ],
      "source": [
        "users.occupation.nunique()\n",
        "#or by using value_counts() which returns the count of unique elements\n",
        "#users.occupation.value_counts().count()\n"
      ],
      "id": "cell-24"
    },
    {
      "cell_type": "markdown",
      "metadata": {},
      "source": [
        "### Step 13. What is the most frequent occupation?"
      ],
      "id": "87660420-c72e-42be-a410-7a3376bebc98"
    },
    {
      "cell_type": "code",
      "execution_count": 13,
      "metadata": {},
      "outputs": [
        {
          "output_type": "display_data",
          "metadata": {},
          "data": {
            "text/plain": [
              "'student'"
            ]
          }
        }
      ],
      "source": [
        "#Because \"most\" is asked\n",
        "users.occupation.value_counts().head(1).index[0]\n",
        "\n",
        "#or\n",
        "#to have the top 5\n",
        "\n",
        "# users.occupation.value_counts().head()\n"
      ],
      "id": "cell-26"
    },
    {
      "cell_type": "markdown",
      "metadata": {},
      "source": [
        "### Step 14. Summarize the DataFrame."
      ],
      "id": "195726dd-d633-44f2-a1fa-300c26d8e71e"
    },
    {
      "cell_type": "code",
      "execution_count": 14,
      "metadata": {},
      "outputs": [
        {
          "output_type": "display_data",
          "metadata": {},
          "data": {
            "text/html": [
              "\n",
              "</div>"
            ]
          }
        }
      ],
      "source": [
        "users.describe() #Notice: by default, only the numeric columns are returned. \n"
      ],
      "id": "cell-28"
    },
    {
      "cell_type": "markdown",
      "metadata": {},
      "source": [
        "### Step 15. Summarize all the columns"
      ],
      "id": "fb1d3479-18cf-4de9-a16a-b2b77f801819"
    },
    {
      "cell_type": "code",
      "execution_count": 15,
      "metadata": {},
      "outputs": [
        {
          "output_type": "display_data",
          "metadata": {},
          "data": {
            "text/html": [
              "\n",
              "</div>"
            ]
          }
        }
      ],
      "source": [
        "users.describe(include = \"all\") #Notice: By default, only the numeric columns are returned.\n"
      ],
      "id": "cell-30"
    },
    {
      "cell_type": "markdown",
      "metadata": {},
      "source": [
        "### Step 16. Summarize only the occupation column"
      ],
      "id": "d272f39f-9f2d-4fab-8305-213f09ef5bc2"
    },
    {
      "cell_type": "code",
      "execution_count": 17,
      "metadata": {},
      "outputs": [
        {
          "output_type": "display_data",
          "metadata": {},
          "data": {
            "text/plain": [
              "count         943\n",
              "unique         21\n",
              "top       student\n",
              "freq          196\n",
              "Name: occupation, dtype: object"
            ]
          }
        }
      ],
      "source": [
        "users.occupation.describe()\n"
      ],
      "id": "cell-32"
    },
    {
      "cell_type": "markdown",
      "metadata": {},
      "source": [
        "### Step 17. What is the mean age of users?"
      ],
      "id": "d16ff23b-50f0-4d87-a173-554644a9c1c7"
    },
    {
      "cell_type": "code",
      "execution_count": 18,
      "metadata": {},
      "outputs": [
        {
          "output_type": "display_data",
          "metadata": {},
          "data": {
            "text/plain": [
              "34"
            ]
          }
        }
      ],
      "source": [
        "round(users.age.mean())\n"
      ],
      "id": "cell-34"
    },
    {
      "cell_type": "markdown",
      "metadata": {},
      "source": [
        "### Step 18. What is the age with least occurrence?"
      ],
      "id": "54115fa2-3b22-4989-9e60-6ff42bb79be1"
    },
    {
      "cell_type": "code",
      "execution_count": 19,
      "metadata": {},
      "outputs": [
        {
          "output_type": "display_data",
          "metadata": {},
          "data": {
            "text/plain": [
              "age\n",
              "7     1\n",
              "66    1\n",
              "11    1\n",
              "10    1\n",
              "73    1\n",
              "Name: count, dtype: int64"
            ]
          }
        }
      ],
      "source": [
        "users.age.value_counts().tail() #7, 10, 11, 66 and 73 years -> only 1 occurrence\n"
      ],
      "id": "cell-36"
    }
  ],
  "nbformat": 4,
  "nbformat_minor": 5,
  "metadata": {
    "anaconda-cloud": {},
    "kernelspec": {
      "name": "python3",
      "display_name": "Python 3",
      "language": "python"
    },
    "language_info": {
      "name": "python",
      "codemirror_mode": {
        "name": "ipython",
        "version": "3"
      },
      "file_extension": ".py",
      "mimetype": "text/x-python",
      "nbconvert_exporter": "python",
      "pygments_lexer": "ipython3",
      "version": "3.11.9"
    }
  }
}